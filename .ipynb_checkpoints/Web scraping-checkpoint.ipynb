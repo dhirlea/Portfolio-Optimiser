{
 "cells": [
  {
   "cell_type": "markdown",
   "metadata": {},
   "source": [
    "Purpose of notebook is to scrape web data on financial asset prices and run a mean-variance optimisation framework to target a specific risk-return profile"
   ]
  },
  {
   "cell_type": "markdown",
   "metadata": {},
   "source": [
    "Import relevant libraries"
   ]
  },
  {
   "cell_type": "code",
   "execution_count": 364,
   "metadata": {},
   "outputs": [],
   "source": [
    "import pandas as pd\n",
    "import seaborn as sns\n",
    "import numpy as np\n",
    "import datetime as dt\n",
    "import matplotlib.pyplot as plt"
   ]
  },
  {
   "cell_type": "markdown",
   "metadata": {},
   "source": [
    "Construct URL Generator for given set of securities to import price data"
   ]
  },
  {
   "cell_type": "code",
   "execution_count": 365,
   "metadata": {},
   "outputs": [
    {
     "name": "stdout",
     "output_type": "stream",
     "text": [
      "{'S&P 500': 'https://query1.finance.yahoo.com/v7/finance/download/%5EGSPC?period1=1592438400&period2=1594166400&interval=1d&events=history', 'Purpose US Cash ETF': 'https://query1.finance.yahoo.com/v7/finance/download/PSU-U.TO?period1=1592438400&period2=1594166400&interval=1d&events=history'}\n"
     ]
    }
   ],
   "source": [
    "#Provide a dictionary with names and yahoo symbols for securities in portfolio\n",
    "\n",
    "securities_dictionary ={'S&P 500':'%5EGSPC',\n",
    "                        'Purpose US Cash ETF' : 'PSU-U.TO'}\n",
    "\n",
    "#Specify frequency of data download eg. daily = '1d' /monthly = '1mo' /weekly = '1wk'\n",
    "\n",
    "frequency ='1d'\n",
    "\n",
    "#Specify time window to download data eg. last 30 days\n",
    "\n",
    "lookback = 20\n",
    "\n",
    "#Generates epoch timestamps to construct URL\n",
    "\n",
    "today_date = dt.datetime(dt.datetime.now().year, dt.datetime.now().month, dt.datetime.now().day,1,0,0)\n",
    "start_date = today_date - dt.timedelta(days=lookback)\n",
    "\n",
    "today_date_string = str(round(today_date.timestamp()))\n",
    "start_date_string = str(round(start_date.timestamp()))\n",
    "\n",
    "#Creates URL dictionary mapping security names to corresponding URL downloads\n",
    "\n",
    "url_dictionary = {}\n",
    "\n",
    "for security in securities_dictionary.keys():\n",
    "    url ='https://query1.finance.yahoo.com/v7/finance/download/'\\\n",
    "         +securities_dictionary[security]+\\\n",
    "         '?period1='+start_date_string\\\n",
    "         +'&period2='+today_date_string\\\n",
    "         +'&interval='+frequency\\\n",
    "         +'&events=history'\n",
    "    url_dictionary[security] = url\n",
    "\n",
    "print(url_dictionary)\n"
   ]
  },
  {
   "cell_type": "code",
   "execution_count": 368,
   "metadata": {},
   "outputs": [
    {
     "name": "stdout",
     "output_type": "stream",
     "text": [
      "            Purpose US Cash ETF return  S&P 500 return\n",
      "Date                                                  \n",
      "2020-06-19                     -0.0001       -0.005649\n",
      "2020-06-22                      0.0000        0.006495\n",
      "2020-06-23                      0.0000        0.004307\n",
      "2020-06-24                      0.0000       -0.025855\n",
      "2020-06-25                      0.0000        0.010959\n",
      "2020-06-26                      0.0001       -0.024227\n",
      "2020-06-29                     -0.0002        0.014686\n",
      "2020-06-30                      0.0000        0.015410\n",
      "2020-07-01                      0.0000        0.005022\n",
      "2020-07-02                      0.0000        0.004541\n",
      "2020-07-06                      0.0000        0.015882\n",
      "2020-07-07                      0.0000       -0.010819 \n",
      "\n",
      "Volatility of S&P 500 is 23.451514964331544\n"
     ]
    }
   ],
   "source": [
    "#Download web data from URL dictionary and store in a dataframe\n",
    "#Creates a dictionary of dataframes\n",
    "\n",
    "securities_price_dictionary = {}\n",
    "\n",
    "for security in url_dictionary.keys():\n",
    "    #Construct dictionary of dataframes\n",
    "    securities_price_dictionary[security]=pd.read_csv(url_dictionary[security], parse_dates=True)\n",
    "    #Select only columns of interest in each dataframe\n",
    "    securities_price_dictionary[security] = securities_price_dictionary[security][['Date', 'Adj Close']]\n",
    "    #Relabel columns in each dataframe\n",
    "    securities_price_dictionary[security].columns = ['Date', security+' price level']\n",
    "    #Set dates in each dataframe to Datetime objects\n",
    "    securities_price_dictionary[security]['Date'] = pd.to_datetime(securities_price_dictionary[security]['Date'])\n",
    "\n",
    "#Generate a dataframe of dataframes for every individual security\n",
    "securities_price_df = pd.concat(securities_price_dictionary, axis=1)\n",
    "\n",
    "#Create a dataframe of returns by filtering dataframe of pricing data\n",
    "securities_return_df = pd.DataFrame()\n",
    "\n",
    "for security, column in securities_price_df.columns:\n",
    "    if(securities_price_df[security][column].dtype == 'float64'):\n",
    "        securities_return_df[security + ' return'] = securities_price_df[security][column].pct_change(fill_method='ffill')\n",
    "    else:\n",
    "        securities_return_df['Date'] = securities_price_df[security][column]\n",
    "\n",
    "securities_return_df = securities_return_df.dropna()\n",
    "securities_return_df= securities_return_df.set_index('Date')\n",
    "\n",
    "\n",
    "print(securities_return_df, '\\n')\n",
    "\n",
    "print('Volatility of S&P 500 is', securities_return_df.iloc[:,1].std()*100*np.sqrt(260))"
   ]
  },
  {
   "cell_type": "code",
   "execution_count": 390,
   "metadata": {},
   "outputs": [
    {
     "data": {
      "image/png": "[encoded data removed]",
      "text/plain": [
       "<Figure size 432x288 with 2 Axes>"
      ]
     },
     "metadata": {},
     "output_type": "display_data"
    }
   ],
   "source": [
    "#Plot dataframe to check \n",
    "\n",
    "fig, ax = plt.subplots(2, sharex=True)\n",
    "sns.set()\n",
    "\n",
    "ax[0].plot('Date', 'S&P 500 price level', data=securities_price_df['S&P 500'])\n",
    "ax[0].set_ylabel('SPX level')\n",
    "\n",
    "\n",
    "ax[1].plot(securities_return_df.index, 'S&P 500 return', data=securities_return_df)\n",
    "ax[1].set_ylabel('SPX daily return')\n",
    "\n",
    "\n",
    "plt.xticks(rotation=90)\n",
    "plt.show()\n"
   ]
  },
  {
   "cell_type": "code",
   "execution_count": null,
   "metadata": {},
   "outputs": [],
   "source": []
  }
 ],
 "metadata": {
  "kernelspec": {
   "display_name": "Python 3",
   "language": "python",
   "name": "python3"
  },
  "language_info": {
   "codemirror_mode": {
    "name": "ipython",
    "version": 3
   },
   "file_extension": ".py",
   "mimetype": "text/x-python",
   "name": "python",
   "nbconvert_exporter": "python",
   "pygments_lexer": "ipython3",
   "version": "3.7.3"
  }
 },
 "nbformat": 4,
 "nbformat_minor": 4
}
