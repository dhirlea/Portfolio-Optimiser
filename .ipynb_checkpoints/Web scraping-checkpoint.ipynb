{
 "cells": [
  {
   "cell_type": "markdown",
   "metadata": {},
   "source": [
    "Purpose of notebook is to scrape web data on financial asset prices and run a mean-variance optimization framework to target a specific risk-return profile"
   ]
  },
  {
   "cell_type": "markdown",
   "metadata": {},
   "source": [
    "Import relevant libraries"
   ]
  },
  {
   "cell_type": "code",
   "execution_count": 1,
   "metadata": {},
   "outputs": [],
   "source": [
    "import pandas as pd\n",
    "import seaborn as sns\n",
    "import numpy as np\n",
    "import datetime as dt\n",
    "import matplotlib.pyplot as plt\n",
    "import scipy.optimize as sco"
   ]
  },
  {
   "cell_type": "markdown",
   "metadata": {},
   "source": [
    "Construct URL Generator for given set of securities to import price data"
   ]
  },
  {
   "cell_type": "code",
   "execution_count": 2,
   "metadata": {},
   "outputs": [
    {
     "data": {
      "text/plain": [
       "{'E-Mini S&P 500 Sep 20': 'https://query1.finance.yahoo.com/v7/finance/download/ES=F?period1=1572310800&period2=1594771200&interval=1d&events=history',\n",
       " 'U.S. Treasury Bond Futures': 'https://query1.finance.yahoo.com/v7/finance/download/ZB=F?period1=1572310800&period2=1594771200&interval=1d&events=history',\n",
       " 'Gold Aug 20': 'https://query1.finance.yahoo.com/v7/finance/download/GC=F?period1=1572310800&period2=1594771200&interval=1d&events=history'}"
      ]
     },
     "metadata": {},
     "output_type": "display_data"
    },
    {
     "name": "stdout",
     "output_type": "stream",
     "text": [
      "\n",
      "\n"
     ]
    }
   ],
   "source": [
    "#Provide a dictionary with names and yahoo symbols for securities in portfolio\n",
    "\n",
    "securities_dictionary ={'E-Mini S&P 500 Sep 20':'ES=F',\n",
    "                       'U.S. Treasury Bond Futures' : 'ZB=F',\n",
    "                       'Gold Aug 20' : 'GC=F'}\n",
    "\n",
    "#Specify frequency of data download eg. daily = '1d' /monthly = '1mo' /weekly = '1wk'\n",
    "\n",
    "frequency ='1d'\n",
    "\n",
    "#Specify time window to download data eg. last 30 days and annualisation factor for days\n",
    "\n",
    "lookback = 260\n",
    "ann_factor = 260\n",
    "\n",
    "#Generates epoch timestamps to construct URL\n",
    "\n",
    "today_date = dt.datetime(dt.datetime.now().year, dt.datetime.now().month, dt.datetime.now().day,1,0,0)\n",
    "start_date = today_date - dt.timedelta(days=lookback)\n",
    "\n",
    "today_date_string = str(round(today_date.timestamp()))\n",
    "start_date_string = str(round(start_date.timestamp()))\n",
    "\n",
    "#Creates URL dictionary mapping security names to corresponding URL downloads\n",
    "\n",
    "url_dictionary = {}\n",
    "\n",
    "for security in securities_dictionary.keys():\n",
    "    url ='https://query1.finance.yahoo.com/v7/finance/download/'\\\n",
    "         +securities_dictionary[security]+\\\n",
    "         '?period1='+start_date_string\\\n",
    "         +'&period2='+today_date_string\\\n",
    "         +'&interval='+frequency\\\n",
    "         +'&events=history'\n",
    "    url_dictionary[security] = url\n",
    "\n",
    "\n",
    "#Display URL dictionary for debugging purposes    \n",
    "display(url_dictionary)\n",
    "print('\\n')\n"
   ]
  },
  {
   "cell_type": "markdown",
   "metadata": {},
   "source": [
    "Create a dataframe of daily/weekly/monthly security returns"
   ]
  },
  {
   "cell_type": "code",
   "execution_count": 3,
   "metadata": {},
   "outputs": [
    {
     "data": {
      "text/html": [
       "<div>\n",
       "<style scoped>\n",
       "    .dataframe tbody tr th:only-of-type {\n",
       "        vertical-align: middle;\n",
       "    }\n",
       "\n",
       "    .dataframe tbody tr th {\n",
       "        vertical-align: top;\n",
       "    }\n",
       "\n",
       "    .dataframe thead th {\n",
       "        text-align: right;\n",
       "    }\n",
       "</style>\n",
       "<table border=\"1\" class=\"dataframe\">\n",
       "  <thead>\n",
       "    <tr style=\"text-align: right;\">\n",
       "      <th></th>\n",
       "      <th>E-Mini S&amp;P 500 Sep 20</th>\n",
       "      <th>U.S. Treasury Bond Futures</th>\n",
       "      <th>Gold Aug 20</th>\n",
       "    </tr>\n",
       "    <tr>\n",
       "      <th>Date</th>\n",
       "      <th></th>\n",
       "      <th></th>\n",
       "      <th></th>\n",
       "    </tr>\n",
       "  </thead>\n",
       "  <tbody>\n",
       "    <tr>\n",
       "      <th>2020-07-09</th>\n",
       "      <td>3163.5</td>\n",
       "      <td>1820.599976</td>\n",
       "      <td>178.938004</td>\n",
       "    </tr>\n",
       "    <tr>\n",
       "      <th>2020-07-10</th>\n",
       "      <td>3141.0</td>\n",
       "      <td>1803.800049</td>\n",
       "      <td>180.375000</td>\n",
       "    </tr>\n",
       "    <tr>\n",
       "      <th>2020-07-12</th>\n",
       "      <td>3190.0</td>\n",
       "      <td>1804.099976</td>\n",
       "      <td>179.906250</td>\n",
       "    </tr>\n",
       "    <tr>\n",
       "      <th>2020-07-13</th>\n",
       "      <td>3178.5</td>\n",
       "      <td>1801.900024</td>\n",
       "      <td>179.811996</td>\n",
       "    </tr>\n",
       "    <tr>\n",
       "      <th>2020-07-14</th>\n",
       "      <td>3205.5</td>\n",
       "      <td>1812.900024</td>\n",
       "      <td>179.500000</td>\n",
       "    </tr>\n",
       "  </tbody>\n",
       "</table>\n",
       "</div>"
      ],
      "text/plain": [
       "            E-Mini S&P 500 Sep 20  U.S. Treasury Bond Futures  Gold Aug 20\n",
       "Date                                                                      \n",
       "2020-07-09                 3163.5                 1820.599976   178.938004\n",
       "2020-07-10                 3141.0                 1803.800049   180.375000\n",
       "2020-07-12                 3190.0                 1804.099976   179.906250\n",
       "2020-07-13                 3178.5                 1801.900024   179.811996\n",
       "2020-07-14                 3205.5                 1812.900024   179.500000"
      ]
     },
     "metadata": {},
     "output_type": "display_data"
    },
    {
     "data": {
      "text/html": [
       "<div>\n",
       "<style scoped>\n",
       "    .dataframe tbody tr th:only-of-type {\n",
       "        vertical-align: middle;\n",
       "    }\n",
       "\n",
       "    .dataframe tbody tr th {\n",
       "        vertical-align: top;\n",
       "    }\n",
       "\n",
       "    .dataframe thead th {\n",
       "        text-align: right;\n",
       "    }\n",
       "</style>\n",
       "<table border=\"1\" class=\"dataframe\">\n",
       "  <thead>\n",
       "    <tr style=\"text-align: right;\">\n",
       "      <th></th>\n",
       "      <th>E-Mini S&amp;P 500 Sep 20 return</th>\n",
       "      <th>U.S. Treasury Bond Futures return</th>\n",
       "      <th>Gold Aug 20 return</th>\n",
       "    </tr>\n",
       "    <tr>\n",
       "      <th>Date</th>\n",
       "      <th></th>\n",
       "      <th></th>\n",
       "      <th></th>\n",
       "    </tr>\n",
       "  </thead>\n",
       "  <tbody>\n",
       "    <tr>\n",
       "      <th>2020-07-09</th>\n",
       "      <td>0.008608</td>\n",
       "      <td>0.005912</td>\n",
       "      <td>-0.000346</td>\n",
       "    </tr>\n",
       "    <tr>\n",
       "      <th>2020-07-10</th>\n",
       "      <td>-0.007112</td>\n",
       "      <td>-0.009228</td>\n",
       "      <td>0.008031</td>\n",
       "    </tr>\n",
       "    <tr>\n",
       "      <th>2020-07-12</th>\n",
       "      <td>0.015600</td>\n",
       "      <td>0.000166</td>\n",
       "      <td>-0.002599</td>\n",
       "    </tr>\n",
       "    <tr>\n",
       "      <th>2020-07-13</th>\n",
       "      <td>-0.003605</td>\n",
       "      <td>-0.001219</td>\n",
       "      <td>-0.000524</td>\n",
       "    </tr>\n",
       "    <tr>\n",
       "      <th>2020-07-14</th>\n",
       "      <td>0.008495</td>\n",
       "      <td>0.006105</td>\n",
       "      <td>-0.001735</td>\n",
       "    </tr>\n",
       "  </tbody>\n",
       "</table>\n",
       "</div>"
      ],
      "text/plain": [
       "            E-Mini S&P 500 Sep 20 return  U.S. Treasury Bond Futures return  \\\n",
       "Date                                                                          \n",
       "2020-07-09                      0.008608                           0.005912   \n",
       "2020-07-10                     -0.007112                          -0.009228   \n",
       "2020-07-12                      0.015600                           0.000166   \n",
       "2020-07-13                     -0.003605                          -0.001219   \n",
       "2020-07-14                      0.008495                           0.006105   \n",
       "\n",
       "            Gold Aug 20 return  \n",
       "Date                            \n",
       "2020-07-09           -0.000346  \n",
       "2020-07-10            0.008031  \n",
       "2020-07-12           -0.002599  \n",
       "2020-07-13           -0.000524  \n",
       "2020-07-14           -0.001735  "
      ]
     },
     "metadata": {},
     "output_type": "display_data"
    },
    {
     "name": "stdout",
     "output_type": "stream",
     "text": [
      "\n",
      "\n"
     ]
    }
   ],
   "source": [
    "#Download web data from URL dictionary and store in a dataframe\n",
    "#Creates a dictionary of dataframes\n",
    "\n",
    "securities_price_dictionary = {}\n",
    "\n",
    "for security in url_dictionary.keys():\n",
    "    #Construct dictionary of dataframes\n",
    "    securities_price_dictionary[security]=pd.read_csv(url_dictionary[security])\n",
    "    \n",
    "    #Select only columns of interest in each dataframe\n",
    "    securities_price_dictionary[security] = securities_price_dictionary[security][['Date', 'Adj Close']]\n",
    "    \n",
    "    #Relabel columns in each dataframe\n",
    "    securities_price_dictionary[security].columns = ['Date', security+' price level']\n",
    "    \n",
    "    #Set dates in each dataframe to Datetime objects\n",
    "    securities_price_dictionary[security]['Date'] = pd.to_datetime(securities_price_dictionary[security]['Date'])\n",
    "    \n",
    "    #Set the index of sub-dataframes to the Date column to help with concatenation\n",
    "    securities_price_dictionary[security].set_index('Date', inplace=True)\n",
    "\n",
    "#Concatenate sub-dataframes of dictionary into one main dataframe and set column names\n",
    "\n",
    "securities_price_df = pd.concat(securities_price_dictionary, axis=1)\n",
    "\n",
    "securities_price_df.columns= url_dictionary.keys()\n",
    "\n",
    "col_names = [ name + ' return' for name in url_dictionary.keys()]\n",
    "\n",
    "#Compute return series and ffill missing values\n",
    "securities_return_df = securities_price_df.pct_change(fill_method='ffill')\n",
    "securities_return_df = securities_return_df.set_index(securities_price_df.index).dropna()\n",
    "\n",
    "securities_return_df.columns = col_names\n",
    "\n",
    "#Print prices and returns dataframes for debugging purposes\n",
    "\n",
    "display(securities_price_df.tail())\n",
    "\n",
    "display(securities_return_df.tail())\n",
    "\n",
    "print('\\n')\n"
   ]
  },
  {
   "cell_type": "markdown",
   "metadata": {},
   "source": [
    "Create optimizer inputs: holding period return, risk and covariance matrix"
   ]
  },
  {
   "cell_type": "code",
   "execution_count": 4,
   "metadata": {},
   "outputs": [
    {
     "data": {
      "text/html": [
       "<div>\n",
       "<style scoped>\n",
       "    .dataframe tbody tr th:only-of-type {\n",
       "        vertical-align: middle;\n",
       "    }\n",
       "\n",
       "    .dataframe tbody tr th {\n",
       "        vertical-align: top;\n",
       "    }\n",
       "\n",
       "    .dataframe thead th {\n",
       "        text-align: right;\n",
       "    }\n",
       "</style>\n",
       "<table border=\"1\" class=\"dataframe\">\n",
       "  <thead>\n",
       "    <tr style=\"text-align: right;\">\n",
       "      <th></th>\n",
       "      <th>Annualised Return</th>\n",
       "      <th>Annualised Volatility</th>\n",
       "    </tr>\n",
       "  </thead>\n",
       "  <tbody>\n",
       "    <tr>\n",
       "      <th>E-Mini S&amp;P 500 Sep 20</th>\n",
       "      <td>0.068339</td>\n",
       "      <td>0.350045</td>\n",
       "    </tr>\n",
       "    <tr>\n",
       "      <th>U.S. Treasury Bond Futures</th>\n",
       "      <td>0.272220</td>\n",
       "      <td>0.211916</td>\n",
       "    </tr>\n",
       "    <tr>\n",
       "      <th>Gold Aug 20</th>\n",
       "      <td>0.161515</td>\n",
       "      <td>0.130270</td>\n",
       "    </tr>\n",
       "  </tbody>\n",
       "</table>\n",
       "</div>"
      ],
      "text/plain": [
       "                            Annualised Return  Annualised Volatility\n",
       "E-Mini S&P 500 Sep 20                0.068339               0.350045\n",
       "U.S. Treasury Bond Futures           0.272220               0.211916\n",
       "Gold Aug 20                          0.161515               0.130270"
      ]
     },
     "metadata": {},
     "output_type": "display_data"
    },
    {
     "data": {
      "text/html": [
       "<div>\n",
       "<style scoped>\n",
       "    .dataframe tbody tr th:only-of-type {\n",
       "        vertical-align: middle;\n",
       "    }\n",
       "\n",
       "    .dataframe tbody tr th {\n",
       "        vertical-align: top;\n",
       "    }\n",
       "\n",
       "    .dataframe thead th {\n",
       "        text-align: right;\n",
       "    }\n",
       "</style>\n",
       "<table border=\"1\" class=\"dataframe\">\n",
       "  <thead>\n",
       "    <tr style=\"text-align: right;\">\n",
       "      <th></th>\n",
       "      <th>E-Mini S&amp;P 500 Sep 20 return</th>\n",
       "      <th>U.S. Treasury Bond Futures return</th>\n",
       "      <th>Gold Aug 20 return</th>\n",
       "    </tr>\n",
       "  </thead>\n",
       "  <tbody>\n",
       "    <tr>\n",
       "      <th>E-Mini S&amp;P 500 Sep 20 return</th>\n",
       "      <td>0.122532</td>\n",
       "      <td>0.010270</td>\n",
       "      <td>-0.016923</td>\n",
       "    </tr>\n",
       "    <tr>\n",
       "      <th>U.S. Treasury Bond Futures return</th>\n",
       "      <td>0.010270</td>\n",
       "      <td>0.044908</td>\n",
       "      <td>0.005923</td>\n",
       "    </tr>\n",
       "    <tr>\n",
       "      <th>Gold Aug 20 return</th>\n",
       "      <td>-0.016923</td>\n",
       "      <td>0.005923</td>\n",
       "      <td>0.016970</td>\n",
       "    </tr>\n",
       "  </tbody>\n",
       "</table>\n",
       "</div>"
      ],
      "text/plain": [
       "                                   E-Mini S&P 500 Sep 20 return  \\\n",
       "E-Mini S&P 500 Sep 20 return                           0.122532   \n",
       "U.S. Treasury Bond Futures return                      0.010270   \n",
       "Gold Aug 20 return                                    -0.016923   \n",
       "\n",
       "                                   U.S. Treasury Bond Futures return  \\\n",
       "E-Mini S&P 500 Sep 20 return                                0.010270   \n",
       "U.S. Treasury Bond Futures return                           0.044908   \n",
       "Gold Aug 20 return                                          0.005923   \n",
       "\n",
       "                                   Gold Aug 20 return  \n",
       "E-Mini S&P 500 Sep 20 return                -0.016923  \n",
       "U.S. Treasury Bond Futures return            0.005923  \n",
       "Gold Aug 20 return                           0.016970  "
      ]
     },
     "metadata": {},
     "output_type": "display_data"
    }
   ],
   "source": [
    "#Calculate a dataframe of return and volatility to use as input to optimizer\n",
    "\n",
    "optimizer_return_inputs_list = []\n",
    "optimizer_volatility_inputs_list = []\n",
    "\n",
    "for security in securities_return_df.columns:\n",
    "    optimizer_return_inputs_list.append((1+securities_return_df[security]).cumprod()[-1]**(ann_factor/len(securities_return_df))-1)\n",
    "    optimizer_volatility_inputs_list.append(securities_return_df[security].std()*np.sqrt(ann_factor))\n",
    "\n",
    "optimizer_inputs_df = pd.DataFrame(zip(optimizer_return_inputs_list, optimizer_volatility_inputs_list))\n",
    "\n",
    "optimizer_inputs_df.columns = ['Annualised Return', 'Annualised Volatility']\n",
    "optimizer_inputs_df.index = securities_price_df.columns\n",
    "display(optimizer_inputs_df)\n",
    "\n",
    "#Compute covariance matrix\n",
    "covariance_matrix = securities_return_df.cov()*ann_factor\n",
    "\n",
    "display(covariance_matrix)\n"
   ]
  },
  {
   "cell_type": "markdown",
   "metadata": {},
   "source": [
    "Mean variance portfolio optimizer "
   ]
  },
  {
   "cell_type": "code",
   "execution_count": 5,
   "metadata": {},
   "outputs": [
    {
     "name": "stdout",
     "output_type": "stream",
     "text": [
      "Optimal portfolio weights  {'E-Mini S&P 500 Sep 20': 0.1, 'U.S. Treasury Bond Futures': 0.29, 'Gold Aug 20': 0.61}\n",
      "Portfolio return is  18.47%\n",
      "Portfolio volatility is  10.95%\n",
      "Portfolio Sharpe ratio is  1.6865635783596222\n"
     ]
    }
   ],
   "source": [
    "def port_ret(weights, returns):\n",
    "    return np.dot(weights, returns)\n",
    "\n",
    "def optimizer_port_ret(weights):\n",
    "    \"\"\" Computes portfolio return given a set of weights and assumes a set of security returns defined prior in the script\"\"\"\n",
    "    return port_ret(weights, optimizer_inputs_df['Annualised Return'])\n",
    "\n",
    "def port_vol(weights, cov_matrix):\n",
    "    return np.sqrt(np.dot(weights.transpose(), np.dot(cov_matrix, weights)))\n",
    "\n",
    "def optimizer_port_vol(weights):\n",
    "    \"\"\" Computes portfolio volatility given a set of weights and assumes a covariance matrix defined prior in the script\"\"\"\n",
    "    return port_vol(weights, covariance_matrix)\n",
    "\n",
    "#Portfolio sharpe is defined as the negative value of the Sharpe ratio in order to make use of the scipy minimize function which will effectively maximize absolute Sharpe ratio\n",
    "#Assumed risk free rate is 0\n",
    "\n",
    "def optimizer_port_sharpe(weights):\n",
    "    return -optimizer_port_ret(weights)/optimizer_port_vol(weights)\n",
    "\n",
    "constraints = ({'type':'eq', 'fun': lambda x: np.sum(x)-1})\n",
    "boundaries =tuple((0,1) for x in range(len(securities_dictionary)))\n",
    "\n",
    "equal_weights = np.array([1/len(securities_dictionary) for int in range(len(securities_dictionary))])\n",
    "\n",
    "optimization_result = sco.minimize(optimizer_port_sharpe, equal_weights, method='SLSQP', bounds = boundaries, constraints = constraints)\n",
    "\n",
    "optimal_portfolio_weights = optimization_result.x\n",
    "\n",
    "optimal_portfolio_dict =dict(zip(securities_dictionary.keys(), list(optimal_portfolio_weights.round(2))))\n",
    "\n",
    "print('Optimal portfolio weights ', optimal_portfolio_dict)\n",
    "\n",
    "optimal_portfolio_return = optimizer_port_ret(optimal_portfolio_weights)\n",
    "\n",
    "print('Portfolio return is ', '{0:.2%}'.format(optimal_portfolio_return))\n",
    "\n",
    "optimal_portfolio_volatility = optimizer_port_vol(optimal_portfolio_weights)\n",
    "\n",
    "print('Portfolio volatility is ', '{0:.2%}'.format(optimal_portfolio_volatility))\n",
    "\n",
    "optimal_portfolio_Sharpe = -1* optimizer_port_sharpe(optimal_portfolio_weights)\n",
    "\n",
    "print('Portfolio Sharpe ratio is ', optimal_portfolio_Sharpe)\n"
   ]
  },
  {
   "cell_type": "markdown",
   "metadata": {},
   "source": [
    "Display Minimum Variance Frontier and Optimal Portfolio for Given Level of Return"
   ]
  },
  {
   "cell_type": "code",
   "execution_count": 8,
   "metadata": {},
   "outputs": [
    {
     "name": "stdout",
     "output_type": "stream",
     "text": [
      "dict_keys(['E-Mini S&P 500 Sep 20', 'U.S. Treasury Bond Futures', 'Gold Aug 20']) \n",
      " [0.         0.79928331 0.20071669]\n"
     ]
    },
    {
     "data": {
      "image/png": "[encoded data removed]",
      "text/plain": [
       "<Figure size 720x432 with 1 Axes>"
      ]
     },
     "metadata": {},
     "output_type": "display_data"
    }
   ],
   "source": [
    "#Plot dataframe to check \n",
    "\n",
    "frontier_constrains = ({'type' : 'eq', 'fun' : lambda x: np.sum(x)-1},\n",
    "                       {'type' : 'eq', 'fun' : lambda x: optimizer_port_ret(x) - tret})\n",
    "\n",
    "boundaries =tuple((0,1) for x in range(len(securities_dictionary)))\n",
    "\n",
    "trets =np.linspace(0.14, 0.27, 100)\n",
    "tvols = []\n",
    "\n",
    "for tret in trets:\n",
    "    res = sco.minimize(optimizer_port_vol, equal_weights, method = 'SLSQP', bounds = boundaries, constraints = frontier_constrains)\n",
    "    tvols.append(res['fun'])\n",
    "\n",
    "tvols=np.array(tvols)\n",
    "\n",
    "tret = 0.25\n",
    "optimise = sco.minimize(optimizer_port_vol, equal_weights, method = 'SLSQP', bounds = boundaries, constraints = frontier_constrains)\n",
    "print(securities_dictionary.keys(), '\\n', optimise.x)\n",
    "\n",
    "\n",
    "sns.set()\n",
    "\n",
    "plt.figure(figsize=(10, 6))\n",
    "plt.plot(tvols, trets, 'r', lw=4.0)\n",
    "plt.ylim(0.0 , 0.3)\n",
    "plt.xlabel('expected volatility')\n",
    "plt.ylabel('expected return')\n",
    "\n",
    "plt.show()\n"
   ]
  },
  {
   "cell_type": "code",
   "execution_count": null,
   "metadata": {},
   "outputs": [],
   "source": []
  }
 ],
 "metadata": {
  "kernelspec": {
   "display_name": "Python 3",
   "language": "python",
   "name": "python3"
  },
  "language_info": {
   "codemirror_mode": {
    "name": "ipython",
    "version": 3
   },
   "file_extension": ".py",
   "mimetype": "text/x-python",
   "name": "python",
   "nbconvert_exporter": "python",
   "pygments_lexer": "ipython3",
   "version": "3.7.3"
  }
 },
 "nbformat": 4,
 "nbformat_minor": 4
}
